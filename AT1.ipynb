{
  "nbformat": 4,
  "nbformat_minor": 0,
  "metadata": {
    "colab": {
      "provenance": [],
      "authorship_tag": "ABX9TyPn1vvyxWizQRt8zyVdcDJv",
      "include_colab_link": true
    },
    "kernelspec": {
      "name": "python3",
      "display_name": "Python 3"
    },
    "language_info": {
      "name": "python"
    }
  },
  "cells": [
    {
      "cell_type": "markdown",
      "metadata": {
        "id": "view-in-github",
        "colab_type": "text"
      },
      "source": [
        "<a href=\"https://colab.research.google.com/github/thayonara9/estudos/blob/main/AT1.ipynb\" target=\"_parent\"><img src=\"https://colab.research.google.com/assets/colab-badge.svg\" alt=\"Open In Colab\"/></a>"
      ]
    },
    {
      "cell_type": "code",
      "execution_count": null,
      "metadata": {
        "id": "nhr3icJVyzt5"
      },
      "outputs": [],
      "source": [
        "#Thayonara Barbosa 1A\n",
        "#Atividade 1:\n",
        "print('Olá, ETE Cícero Dias')"
      ]
    },
    {
      "cell_type": "code",
      "source": [
        "#Atividade 2\n",
        "numero = input(\"Escreva um numero: \")\n",
        "print('o numero informado foi', numero)"
      ],
      "metadata": {
        "id": "K_cKwzuEz4gE"
      },
      "execution_count": null,
      "outputs": []
    },
    {
      "cell_type": "code",
      "source": [
        "#Atividade 3\n",
        "numero1 = int(input('digite um numero: '))\n",
        "numero2 = int( input('digite outro numero: '))\n",
        "resultado = numero1 + numero2\n",
        "print (resultado)"
      ],
      "metadata": {
        "id": "ZPjgFsJOz8Ny"
      },
      "execution_count": null,
      "outputs": []
    },
    {
      "cell_type": "code",
      "source": [
        "#Atividade 4\n",
        "nota1 = int( input('Digite sua primeira nota: ') )\n",
        "nota2 = int( input('Digite sua segunda nota: ') )\n",
        "nota3 = int(input ('Digite sua terceira nota: ') )\n",
        "nota4 = int(input ('Digite sua quarta nota: ') )\n",
        "media_final = nota1 + nota2 + nota3 + nota4 /4\n",
        "\n",
        "print('A média final é:', media_final)"
      ],
      "metadata": {
        "id": "mummCgA10FEK"
      },
      "execution_count": null,
      "outputs": []
    },
    {
      "cell_type": "code",
      "source": [
        "#Atividade 5\n",
        "metro = float(input('insira um valor em metro que você deseja converter em centimetros: ')\n",
        "centimetros = metro * 100\n",
        "print('o valor', metro, 'm, convertido em centimetros é: ', centimetros)"
      ],
      "metadata": {
        "id": "gO-HlvQY0IUY"
      },
      "execution_count": null,
      "outputs": []
    },
    {
      "cell_type": "code",
      "source": [
        "#Atividade 6\n",
        "r = float(input('Raio do círculo: '))\n",
        "area = 3.14 * (r ** 2)\n",
        "print ('Área do círculo: ', area)"
      ],
      "metadata": {
        "id": "9kWv_uTE0Pqw"
      },
      "execution_count": null,
      "outputs": []
    },
    {
      "cell_type": "code",
      "source": [
        "#Atividade 7\n",
        "l = float(input('Lado do quadrado em m: '))\n",
        "area = l * l\n",
        "print ('Dobro da area do quadrado: %.2f m2' %(area*2))"
      ],
      "metadata": {
        "id": "mWp9gYoIy4KP"
      },
      "execution_count": null,
      "outputs": []
    },
    {
      "cell_type": "code",
      "source": [
        "#Atividade 8\n",
        "valor_hora = float(input('Valor por hora: '))\n",
        "horas_trabalhada = int(input('Horas trabalhadas no mês: '))\n",
        "salario = valor_hora * horas_trabalhada\n",
        "print('Salario: R$ ', salario)"
      ],
      "metadata": {
        "id": "-5lPqlTR0WDQ"
      },
      "execution_count": null,
      "outputs": []
    },
    {
      "cell_type": "code",
      "source": [
        "#Atividade 9\n",
        "n = int(input('Digite um valor: '))\n",
        "\n",
        "if n < 0:\n",
        "    print('O valor digitado é negativo!')\n",
        "else:\n",
        "    print('O valor digitado é positivo!')"
      ],
      "metadata": {
        "id": "R6fjO23f0WMI"
      },
      "execution_count": null,
      "outputs": []
    },
    {
      "cell_type": "code",
      "source": [
        "#Atividade 10\n",
        "sexo = input(\"Digite F para Feminino ou M para Masculino: \")\n",
        "if sexo == \"F\" or sexo == \"f\":\n",
        "    print(\"Feminino\")\n",
        "elif sexo == \"M\" or sexo == \"m\":\n",
        "    print(\"Masculino\")\n",
        "else:\n",
        "    print(\"Sexo Inválido\")"
      ],
      "metadata": {
        "id": "Pa2tHwnX0WXo"
      },
      "execution_count": null,
      "outputs": []
    }
  ]
}