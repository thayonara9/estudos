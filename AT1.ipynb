{
  "nbformat": 4,
  "nbformat_minor": 0,
  "metadata": {
    "colab": {
      "provenance": []
    },
    "kernelspec": {
      "name": "python3",
      "display_name": "Python 3"
    },
    "language_info": {
      "name": "python"
    }
  },
  "cells": [
    {
      "cell_type": "code",
      "execution_count": null,
      "metadata": {
        "id": "nhr3icJVyzt5"
      },
      "outputs": [],
      "source": [
        "#Thayonara Barbosa 1A\n",
        "#Atividade 1:\n",
        "print('Olá, ETE Cícero Dias')"
      ]
    },
    {
      "cell_type": "code",
      "source": [],
      "metadata": {
        "id": "mWp9gYoIy4KP"
      },
      "execution_count": null,
      "outputs": []
    }
  ]
}